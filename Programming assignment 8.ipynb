{
 "cells": [
  {
   "cell_type": "markdown",
   "id": "9f8418c4",
   "metadata": {},
   "source": [
    "# Programming Assignment 8"
   ]
  },
  {
   "cell_type": "code",
   "execution_count": null,
   "id": "7dcd3110",
   "metadata": {},
   "outputs": [],
   "source": [
    "1)Write a Python Program to Add Two Matrices?"
   ]
  },
  {
   "cell_type": "code",
   "execution_count": 3,
   "id": "bb291516",
   "metadata": {},
   "outputs": [
    {
     "name": "stdout",
     "output_type": "stream",
     "text": [
      "             \n",
      "             \n",
      "12 4 6 \n",
      "8 10 12 \n",
      "14 16 18 \n"
     ]
    }
   ],
   "source": [
    "a=([1,2,3],\n",
    "   [4,5,6],\n",
    "   [7,8,9])\n",
    "\n",
    "    \n",
    "print(\"             \")    \n",
    "b=([11,2,3],\n",
    "   [4,5,6],\n",
    "   [7,8,9])\n",
    "\n",
    "\n",
    "print(\"             \")     \n",
    "s=[]\n",
    "k=0\n",
    "for i in range(0,3):\n",
    "    for j in range(0,3):\n",
    "        k=a[i][j] + b[i][j]\n",
    "        print(k,end=\" \")\n",
    "    print()\n",
    "    \n",
    "\n",
    "        "
   ]
  },
  {
   "cell_type": "raw",
   "id": "d9ff3b11",
   "metadata": {},
   "source": [
    "2)Write a Python Program to Multiply Two Matrices?"
   ]
  },
  {
   "cell_type": "code",
   "execution_count": 12,
   "id": "3020ade1",
   "metadata": {},
   "outputs": [
    {
     "name": "stdout",
     "output_type": "stream",
     "text": [
      "[21, 24, 27]\n",
      "[42, 48, 54]\n",
      "[63, 72, 81]\n"
     ]
    }
   ],
   "source": [
    "a=([1,2,3],\n",
    "   [4,5,6],\n",
    "   [7,8,9])\n",
    "b=([11,2,3],\n",
    "   [4,5,6],\n",
    "   [7,8,9])\n",
    "c=([0,0,0],\n",
    "  [0,0,0],\n",
    "  [0,0,0])\n",
    "for i in range(0,len(a)):\n",
    "    for j in range(0,len(b[0])):\n",
    "        for k in range(0,len(b)):\n",
    "            c[i][j]=a[i][k]*b[k][j]\n",
    "for i in c:\n",
    "    print(i)\n"
   ]
  },
  {
   "cell_type": "raw",
   "id": "535c5a94",
   "metadata": {},
   "source": [
    "3)Write a Python Program to Transpose a Matrix?"
   ]
  },
  {
   "cell_type": "code",
   "execution_count": 14,
   "id": "f23b67cc",
   "metadata": {},
   "outputs": [
    {
     "name": "stdout",
     "output_type": "stream",
     "text": [
      "[1, 4, 7]\n",
      "[2, 5, 8]\n",
      "[3, 6, 9]\n"
     ]
    }
   ],
   "source": [
    "a=([1,2,3],\n",
    "   [4,5,6],\n",
    "   [7,8,9])\n",
    "ans=([0,0,0],\n",
    "    [0,0,0],\n",
    "    [0,0,0])\n",
    "for i in range(0,3):\n",
    "    for j in range(0,3):\n",
    "        ans[i][j]+=a[j][i]\n",
    "for i in ans:\n",
    "    print(i)"
   ]
  },
  {
   "cell_type": "raw",
   "id": "e6668b68",
   "metadata": {},
   "source": [
    "4)Write a Python Program to Sort Words in Alphabetic Order?"
   ]
  },
  {
   "cell_type": "code",
   "execution_count": 27,
   "id": "e8f2a7b7",
   "metadata": {},
   "outputs": [
    {
     "name": "stdout",
     "output_type": "stream",
     "text": [
      "enter a string you want to arrangesharan35\n",
      "35aahnrs\n"
     ]
    }
   ],
   "source": [
    "a=input(\"enter a string you want to arrange\")\n",
    "l=[]\n",
    "for i in range(0,len(a)):\n",
    "    l.append(ord(a[i]))\n",
    "for i in range(0,len(a)):\n",
    "    for j in range(0,i):\n",
    "        if l[i]<l[j]:\n",
    "            l[i],l[j]=l[j],l[i]\n",
    "for i in range(0,len(l)):\n",
    "    l[i]=chr(l[i])\n",
    "s=\"\"\n",
    "for i in l:\n",
    "    s+=i\n",
    "print(s)\n",
    "    "
   ]
  },
  {
   "cell_type": "raw",
   "id": "4a414765",
   "metadata": {},
   "source": [
    "5)Write a Python Program to Remove Punctuation From a String?"
   ]
  },
  {
   "cell_type": "code",
   "execution_count": 29,
   "id": "c83ca7cf",
   "metadata": {},
   "outputs": [
    {
     "name": "stdout",
     "output_type": "stream",
     "text": [
      "enter a string you want to arrange.hfg-bdnd?hsjs\"jdjd\"jdj'jdjd'k.\n",
      "hfgbdndhsjsjdjdjdj'jdjd'k\n"
     ]
    }
   ],
   "source": [
    "a=input(\"enter a string you want to arrange\")\n",
    "s=\"\"\n",
    "for i in a:\n",
    "    if i not in('''\"''' ,\"\"\"\"'\"\"\",',','-',\"_\",'.','?'):\n",
    "        s+=i\n",
    "print(s)\n",
    "    "
   ]
  },
  {
   "cell_type": "code",
   "execution_count": null,
   "id": "660f9ef3",
   "metadata": {},
   "outputs": [],
   "source": []
  },
  {
   "cell_type": "code",
   "execution_count": null,
   "id": "930e81e9",
   "metadata": {},
   "outputs": [],
   "source": []
  }
 ],
 "metadata": {
  "kernelspec": {
   "display_name": "Python 3 (ipykernel)",
   "language": "python",
   "name": "python3"
  },
  "language_info": {
   "codemirror_mode": {
    "name": "ipython",
    "version": 3
   },
   "file_extension": ".py",
   "mimetype": "text/x-python",
   "name": "python",
   "nbconvert_exporter": "python",
   "pygments_lexer": "ipython3",
   "version": "3.9.12"
  }
 },
 "nbformat": 4,
 "nbformat_minor": 5
}
